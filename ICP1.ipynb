{
  "nbformat": 4,
  "nbformat_minor": 0,
  "metadata": {
    "colab": {
      "provenance": [],
      "authorship_tag": "ABX9TyNXOgi/6IsEwjjmgy/mod5T",
      "include_colab_link": true
    },
    "kernelspec": {
      "name": "python3",
      "display_name": "Python 3"
    },
    "language_info": {
      "name": "python"
    }
  },
  "cells": [
    {
      "cell_type": "markdown",
      "metadata": {
        "id": "view-in-github",
        "colab_type": "text"
      },
      "source": [
        "<a href=\"https://colab.research.google.com/github/CooperPurvis/PythonColabAssignment/blob/main/ICP1.ipynb\" target=\"_parent\"><img src=\"https://colab.research.google.com/assets/colab-badge.svg\" alt=\"Open In Colab\"/></a>"
      ]
    },
    {
      "cell_type": "code",
      "execution_count": 2,
      "metadata": {
        "colab": {
          "base_uri": "https://localhost:8080/"
        },
        "id": "4RTY57WL7z5L",
        "outputId": "ad7e8c0a-ca2b-4432-abf9-36e75a191319"
      },
      "outputs": [
        {
          "output_type": "stream",
          "name": "stdout",
          "text": [
            "Mounted at /content/drive\n"
          ]
        }
      ],
      "source": [
        "from google.colab import drive\n",
        "drive.mount('/content/drive')\n"
      ]
    },
    {
      "cell_type": "code",
      "source": [
        "#5a\n",
        "s = list(input(\"Enter string: \"))\n",
        "del s[1]\n",
        "del s[2]\n",
        "s.reverse()\n",
        "print(\"\".join(s))\n",
        "\n",
        "\n",
        "#5b\n",
        "num1 = float(input(\"Enter first number: \"))\n",
        "num2 = float(input(\"Enter second number: \"))\n",
        "\n",
        "print(\"Addition:\", num1 + num2)\n",
        "print(\"Subtraction:\", num1 - num2)\n",
        "print(\"Multiplication:\", num1 * num2)\n",
        "if num2 != 0:\n",
        "    print(\"Division:\", num1 / num2)\n",
        "else:\n",
        "    print(\"Division: not possible (divide by zero)\")\n",
        "\n",
        "\n",
        "#6\n",
        "sentence = input(\"Enter a sentence: \")\n",
        "print(sentence.replace(\"python\", \"pythons\"))\n",
        "\n",
        "\n",
        "#7\n",
        "score = int(input(\"Enter your class score: \"))\n",
        "\n",
        "if score >= 90:\n",
        "    grade = \"A\"\n",
        "elif score >= 80:\n",
        "    grade = \"B\"\n",
        "elif score >= 70:\n",
        "    grade = \"C\"\n",
        "elif score >= 60:\n",
        "    grade = \"D\"\n",
        "else:\n",
        "    grade = \"F\"\n",
        "print(\"Grade:\", grade)\n",
        "\n",
        "\n",
        "#8\n",
        "x = [23, 'Python', 23.98]\n",
        "print(x)\n",
        "print([type(i) for i in x])\n",
        "\n",
        "\n",
        "#9\n",
        "IT_companies = {'Facebook', 'Google', 'Microsoft', 'Apple', 'IBM', 'Oracle', 'Amazon'}\n",
        "A = {19, 22, 24, 20, 25, 26}\n",
        "B = {19, 22, 20, 25, 26, 24, 28, 27}\n",
        "age = [22, 19, 24, 25, 26, 24, 25, 24]\n",
        "\n",
        "print(\"Length of IT_companies:\", len(IT_companies))\n",
        "\n",
        "IT_companies.add('Twitter')\n",
        "print(\"After adding Twitter:\", IT_companies)\n",
        "\n",
        "IT_companies.update(['Tesla', 'Samsung', 'Intel'])\n",
        "print(\"After adding multiple companies:\", IT_companies)\n",
        "\n",
        "IT_companies.remove('Google')\n",
        "print(\"After removing Google:\", IT_companies)\n",
        "\n",
        "print(\"Difference between remove and discard: remove raises KeyError if item not found, discard does not.\")\n",
        "\n",
        "print(\"Join A and B:\", A.union(B))\n",
        "print(\"Intersection A and B:\", A.intersection(B))\n",
        "print(\"Is A subset of B:\", A.issubset(B))\n",
        "print(\"Are A and B disjoint:\", A.isdisjoint(B))\n",
        "print(\"Join A with B:\", A.union(B))\n",
        "print(\"Join B with A:\", B.union(A))\n",
        "print(\"Symmetric difference between A and B:\", A.symmetric_difference(B))\n",
        "\n",
        "del A, B\n",
        "print(\"Sets A and B deleted.\")\n",
        "\n",
        "age_set = set(age)\n",
        "print(\"Length of list age:\", len(age))\n",
        "print(\"Length of set age:\", len(age_set))\n"
      ],
      "metadata": {
        "id": "h5lSL-OI8uAb"
      },
      "execution_count": null,
      "outputs": []
    }
  ]
}